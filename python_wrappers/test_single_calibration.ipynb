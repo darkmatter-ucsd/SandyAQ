{
 "cells": [
  {
   "cell_type": "code",
   "execution_count": 1,
   "metadata": {},
   "outputs": [],
   "source": [
    "%run SingleCalibration.py\n"
   ]
  },
  {
   "cell_type": "code",
   "execution_count": 10,
   "metadata": {},
   "outputs": [],
   "source": [
    "test_config = {}\n",
    "test_config[\"channel_threshold_dict\"] = {0: 2550, 1: 2550, 17:2550}\n",
    "test_config[\"number_of_events\"] = 2000\n",
    "test_config[\"output_folder\"] = \"./test_output\"\n",
    "test_config[\"voltage_config\"] = {\"preamp_1\": -46, \"preamp_2\": -46}\n",
    "test_config[\"temperature\"] = 25"
   ]
  },
  {
   "cell_type": "code",
   "execution_count": 11,
   "metadata": {},
   "outputs": [],
   "source": [
    "test_calibration = SingleCalibration(test_config)"
   ]
  },
  {
   "cell_type": "code",
   "execution_count": 12,
   "metadata": {},
   "outputs": [
    {
     "data": {
      "text/plain": [
       "['./test_output/tmp/config_0_2550.ini',\n",
       " './test_output/tmp/config_1_2550.ini',\n",
       " './test_output/tmp/config_17_2550.ini']"
      ]
     },
     "execution_count": 12,
     "metadata": {},
     "output_type": "execute_result"
    }
   ],
   "source": [
    "test_calibration.tmp_config_files"
   ]
  },
  {
   "cell_type": "code",
   "execution_count": 9,
   "metadata": {},
   "outputs": [
    {
     "name": "stdout",
     "output_type": "stream",
     "text": [
      "Running sandyaq -c ./test_output/tmp/config_0_100.ini -n 1000 -d ./test_output -f config_0_100_20240418_144805\n",
      "Running sandyaq -c ./test_output/tmp/config_1_200.ini -n 1000 -d ./test_output -f config_1_200_20240418_144805\n"
     ]
    }
   ],
   "source": [
    "test_calibration.run(dry_run=True)"
   ]
  },
  {
   "cell_type": "code",
   "execution_count": null,
   "metadata": {},
   "outputs": [],
   "source": []
  }
 ],
 "metadata": {
  "kernelspec": {
   "display_name": ".venv",
   "language": "python",
   "name": "python3"
  },
  "language_info": {
   "codemirror_mode": {
    "name": "ipython",
    "version": 3
   },
   "file_extension": ".py",
   "mimetype": "text/x-python",
   "name": "python",
   "nbconvert_exporter": "python",
   "pygments_lexer": "ipython3",
   "version": "3.9.12"
  },
  "orig_nbformat": 4,
  "vscode": {
   "interpreter": {
    "hash": "7e020b59b42c8092ceaf990bd8aec4e48e17ae4da9fded5f788d4ff08af955f3"
   }
  }
 },
 "nbformat": 4,
 "nbformat_minor": 2
}
