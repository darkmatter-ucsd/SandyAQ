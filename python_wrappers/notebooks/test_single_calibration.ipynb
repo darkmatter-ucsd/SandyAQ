{
 "cells": [
  {
   "cell_type": "code",
   "execution_count": null,
   "metadata": {},
   "outputs": [],
   "source": [
    "%run ../SingleCalibration.py\n",
    "import datetime"
   ]
  },
  {
   "cell_type": "code",
   "execution_count": null,
   "metadata": {},
   "outputs": [],
   "source": [
    "bias_voltage = 50 #V\n",
    "temperature = 98 #degC\n",
    "n_events = 5000\n",
    "calibration = True # specify if a re-calibration is needed (calibration = True); otherwise set threshold values\n",
    "\n",
    "\n",
    "# Create a test configuration\n",
    "test_config = {}\n",
    "timestamp = datetime.datetime.now().strftime(\"%Y%m%d%H%M%S\")\n",
    "test_config[\"number_of_events\"] = n_events\n",
    "# test_config[\"output_folder\"] = f\"./run{timestamp}_T{temperature}_V{bias_voltage}\"\n",
    "test_config[\"output_folder\"] = f\"/media/daqtest/My Book/sipm_calibration/sipm_VUV4_202405/tests/longer_calibration_test\"\n",
    "test_config[\"voltage_config\"] = {\"preamp_1\": -bias_voltage, \"preamp_2\": -bias_voltage,\n",
    "                                 \"preamp_3\": -bias_voltage, \"preamp_4\": -bias_voltage,\n",
    "                                 \"preamp_5\": -bias_voltage}\n",
    "test_config[\"temperature\"] = -temperature\n",
    "\n",
    "if not calibration:\n",
    "    test_config[\"channel_threshold_dict\"] = {0:2359,1:2319,2:2618,3:2273,4:2426,5:2341,6:2468,7:2567,8:2801,9:2371,10:2210,11:2352,12:2470,13:2496,14:2602,15:2264,16:2284,17:2531,18:2216,19:2147,20:2522,21:2306,22:2369,23:2465}\n",
    "\n",
    "# later on, options: redo calibration; set threshold manually; use existing config"
   ]
  },
  {
   "cell_type": "code",
   "execution_count": null,
   "metadata": {},
   "outputs": [],
   "source": [
    "test_calibration = SingleCalibration(test_config, calibration=calibration)"
   ]
  },
  {
   "cell_type": "code",
   "execution_count": null,
   "metadata": {},
   "outputs": [],
   "source": [
    "test_calibration.tmp_config_files"
   ]
  },
  {
   "cell_type": "code",
   "execution_count": null,
   "metadata": {},
   "outputs": [],
   "source": [
    "#test_calibration.run(dry_run=True)"
   ]
  },
  {
   "cell_type": "code",
   "execution_count": null,
   "metadata": {},
   "outputs": [],
   "source": [
    "test_calibration.run(dry_run=False)"
   ]
  },
  {
   "cell_type": "code",
   "execution_count": null,
   "metadata": {},
   "outputs": [],
   "source": []
  },
  {
   "cell_type": "code",
   "execution_count": null,
   "metadata": {},
   "outputs": [],
   "source": []
  },
  {
   "cell_type": "code",
   "execution_count": null,
   "metadata": {},
   "outputs": [],
   "source": []
  }
 ],
 "metadata": {
  "kernelspec": {
   "display_name": ".venv",
   "language": "python",
   "name": "python3"
  },
  "language_info": {
   "codemirror_mode": {
    "name": "ipython",
    "version": 3
   },
   "file_extension": ".py",
   "mimetype": "text/x-python",
   "name": "python",
   "nbconvert_exporter": "python",
   "pygments_lexer": "ipython3",
   "version": "3.9.12"
  },
  "orig_nbformat": 4,
  "vscode": {
   "interpreter": {
    "hash": "7e020b59b42c8092ceaf990bd8aec4e48e17ae4da9fded5f788d4ff08af955f3"
   }
  }
 },
 "nbformat": 4,
 "nbformat_minor": 2
}
